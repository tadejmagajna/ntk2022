{
  "cells": [
    {
      "cell_type": "markdown",
      "source": [
        "# Download NT conference talk description pages"
      ],
      "metadata": {
        "nteract": {
          "transient": {
            "deleting": false
          }
        }
      }
    },
    {
      "cell_type": "code",
      "source": [
        "!pip install bs4 requests pandas detoxify"
      ],
      "outputs": [],
      "execution_count": null,
      "metadata": {
        "jupyter": {
          "source_hidden": false,
          "outputs_hidden": false
        },
        "nteract": {
          "transient": {
            "deleting": false
          }
        }
      }
    },
    {
      "cell_type": "code",
      "source": [
        "import requests\n",
        "import pandas as pd\n",
        "from bs4 import BeautifulSoup\n",
        "from detoxify import Detoxify"
      ],
      "outputs": [],
      "execution_count": null,
      "metadata": {
        "gather": {
          "logged": 1664142479854
        }
      }
    },
    {
      "cell_type": "code",
      "source": [
        "talks = []\n",
        "for i in range(40):\n",
        "    resp = requests.get(f\"https://www.ntk.si/urnik/predavanje/_/{i}\")\n",
        "    talks.append(BeautifulSoup(resp.text))\n",
        "    print(f\"talk {i}\", end=\"\\r\")  "
      ],
      "outputs": [],
      "execution_count": null,
      "metadata": {
        "jupyter": {
          "source_hidden": false,
          "outputs_hidden": false
        },
        "nteract": {
          "transient": {
            "deleting": false
          }
        },
        "gather": {
          "logged": 1664142513645
        }
      }
    },
    {
      "cell_type": "markdown",
      "source": [
        "# Extract title, author and description"
      ],
      "metadata": {
        "nteract": {
          "transient": {
            "deleting": false
          }
        }
      }
    },
    {
      "cell_type": "code",
      "source": [
        "talks[10].find(\"h1\").text"
      ],
      "outputs": [],
      "execution_count": null,
      "metadata": {
        "jupyter": {
          "source_hidden": false,
          "outputs_hidden": false
        },
        "nteract": {
          "transient": {
            "deleting": false
          }
        },
        "gather": {
          "logged": 1664142513707
        }
      }
    },
    {
      "cell_type": "code",
      "source": [
        "\n",
        "dataset = []\n",
        "for talk in talks:\n",
        "    try:\n",
        "        dataset.append({\n",
        "            'author': talk.find(\"h1\", class_=\"author-name\").text,\n",
        "            'title': talk.find_all(\"h1\")[1].text,\n",
        "            'desc': talk.find(\"div\", class_=\"entry-description\").text.strip('\\n')\n",
        "        })\n",
        "    except:\n",
        "        pass"
      ],
      "outputs": [],
      "execution_count": null,
      "metadata": {
        "jupyter": {
          "source_hidden": false,
          "outputs_hidden": false
        },
        "nteract": {
          "transient": {
            "deleting": false
          }
        },
        "gather": {
          "logged": 1664142513760
        }
      }
    },
    {
      "cell_type": "code",
      "source": [
        "df = pd.DataFrame(dataset)\n",
        "df"
      ],
      "outputs": [],
      "execution_count": null,
      "metadata": {
        "jupyter": {
          "source_hidden": false,
          "outputs_hidden": false
        },
        "nteract": {
          "transient": {
            "deleting": false
          }
        },
        "gather": {
          "logged": 1664142513818
        }
      }
    },
    {
      "cell_type": "markdown",
      "source": [
        "# Measuring toxicity in talk descriptions"
      ],
      "metadata": {
        "nteract": {
          "transient": {
            "deleting": false
          }
        }
      }
    },
    {
      "cell_type": "code",
      "source": [
        "from detoxify import Detoxify\n",
        "\n",
        "model = Detoxify('original')\n",
        "df[\"toxicity\"] = df.desc.map(lambda x: model.predict(x)[\"toxicity\"])"
      ],
      "outputs": [],
      "execution_count": null,
      "metadata": {
        "jupyter": {
          "source_hidden": false,
          "outputs_hidden": false
        },
        "nteract": {
          "transient": {
            "deleting": false
          }
        },
        "gather": {
          "logged": 1664142522427
        }
      }
    },
    {
      "cell_type": "code",
      "source": [
        "df.sort_values(\"toxicity\")"
      ],
      "outputs": [],
      "execution_count": null,
      "metadata": {
        "jupyter": {
          "source_hidden": false,
          "outputs_hidden": false
        },
        "nteract": {
          "transient": {
            "deleting": false
          }
        },
        "gather": {
          "logged": 1664142522582
        }
      }
    }
  ],
  "metadata": {
    "kernelspec": {
      "name": "python38-azureml",
      "language": "python",
      "display_name": "Python 3.8 - AzureML"
    },
    "language_info": {
      "name": "python",
      "version": "3.8.5",
      "mimetype": "text/x-python",
      "codemirror_mode": {
        "name": "ipython",
        "version": 3
      },
      "pygments_lexer": "ipython3",
      "nbconvert_exporter": "python",
      "file_extension": ".py"
    },
    "kernel_info": {
      "name": "python38-azureml"
    },
    "nteract": {
      "version": "nteract-front-end@1.0.0"
    },
    "microsoft": {
      "host": {
        "AzureML": {
          "notebookHasBeenCompleted": true
        }
      }
    }
  },
  "nbformat": 4,
  "nbformat_minor": 2
}